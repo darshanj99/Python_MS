{
  "nbformat": 4,
  "nbformat_minor": 0,
  "metadata": {
    "colab": {
      "provenance": [],
      "authorship_tag": "ABX9TyMox3mVEI2qvRn3yfr+zPwA",
      "include_colab_link": true
    },
    "kernelspec": {
      "name": "python3",
      "display_name": "Python 3"
    },
    "language_info": {
      "name": "python"
    }
  },
  "cells": [
    {
      "cell_type": "markdown",
      "metadata": {
        "id": "view-in-github",
        "colab_type": "text"
      },
      "source": [
        "<a href=\"https://colab.research.google.com/github/darshanj99/Python_MS/blob/main/Task1_python.ipynb\" target=\"_parent\"><img src=\"https://colab.research.google.com/assets/colab-badge.svg\" alt=\"Open In Colab\"/></a>"
      ]
    },
    {
      "cell_type": "code",
      "execution_count": 14,
      "metadata": {
        "id": "A7cSu-sIiLij"
      },
      "outputs": [],
      "source": [
        "# Define the functions\n",
        "import pandas as pd\n",
        "import requests\n",
        "import json\n",
        "\n",
        "def get_api_data(api_url, headers=None):\n",
        "    \"\"\"\n",
        "    Retrieve data from an API and return a JSON object.\n",
        "    \"\"\"\n",
        "    response = requests.get(api_url, headers=headers)\n",
        "    data = json.loads(response.text)\n",
        "    return data\n",
        "\n",
        "def json_to_dataframe(json_data):\n",
        "    \"\"\"\n",
        "    Convert JSON data to a Pandas DataFrame.\n",
        "    \"\"\"\n",
        "    df = pd.json_normalize(json_data, record_path='data')\n",
        "    return df\n",
        "\n",
        "\n"
      ]
    },
    {
      "cell_type": "code",
      "source": [
        "# Retrieve data from the API and convert it to a Pandas DataFrame\n",
        "api_url = \"https://globalmart-api.onrender.com/mentorskool/v1/sales\"\n",
        "headers = {\"access_token\": \"fe66583bfe5185048c66571293e0d358\"}\n",
        "data = get_api_data(api_url, headers=headers)\n",
        "df = json_to_dataframe(data)\n",
        "\n",
        "# Print the resulting DataFrame\n",
        "print(df.head())"
      ],
      "metadata": {
        "colab": {
          "base_uri": "https://localhost:8080/"
        },
        "id": "05tOFz8IiQmd",
        "outputId": "da09e066-7a33-4113-967c-557a01d14568"
      },
      "execution_count": 15,
      "outputs": [
        {
          "output_type": "stream",
          "name": "stdout",
          "text": [
            "     id  sales_amt  qty  discount  profit_amt  order.order_id order.ship_mode  \\\n",
            "0  2698   261.9600    2      0.00     41.9136  CA-2014-145317  Standard Class   \n",
            "1  6827   731.9400    3      0.00    219.5820  CA-2016-118689  Standard Class   \n",
            "2  8154    14.6200    2      0.00      6.8714  CA-2017-140151     First Class   \n",
            "3  2624   957.5775    5      0.45   -383.0310  CA-2017-127180     First Class   \n",
            "4  4191    22.3680    2      0.20      2.5164  CA-2017-166709  Standard Class   \n",
            "\n",
            "  order.order_status order.order_purchase_date order.order_approved_at  ...  \\\n",
            "0          delivered       2018-07-11 19:46:00        2018-07-13 15:25  ...   \n",
            "1          delivered       2018-05-15 20:24:00        2018-05-15 20:55  ...   \n",
            "2          delivered       2018-02-28 13:40:00        2018-03-01 13:35  ...   \n",
            "3          delivered       2018-01-07 21:45:00        2018-01-07 21:57  ...   \n",
            "4          delivered       2018-02-22 00:06:00        2018-02-22 00:30  ...   \n",
            "\n",
            "                                product.product_name product.colors  \\\n",
            "0                  Bush Somerset Collection Bookcase           Pink   \n",
            "1  Hon Deluxe Fabric Upholstered Stacking Chairs,...           Pink   \n",
            "2  Self-Adhesive Address Labels for Typewriters b...           Pink   \n",
            "3      Bretford CR4500 Series Slim Rectangular Table           Blue   \n",
            "4                     Eldon Fold 'N Roll Cart System           Blue   \n",
            "\n",
            "  product.category product.sub_category product.date_added  \\\n",
            "0        Furniture            Bookcases         2016-04-01   \n",
            "1        Furniture               Chairs         2016-11-04   \n",
            "2  Office Supplies               Labels         2016-08-01   \n",
            "3        Furniture               Tables         2016-11-15   \n",
            "4  Office Supplies              Storage         2016-08-01   \n",
            "\n",
            "  product.manufacturer     product.sizes   product.upc product.weight  \\\n",
            "0                 null                 9  640000000000           null   \n",
            "1                 null        10,7,6,9,8  664000000000           null   \n",
            "2                 null              11.5  887000000000           null   \n",
            "3                 null  10.5,10,8.5,8,13  888000000000           null   \n",
            "4                 null              null  604000000000           null   \n",
            "\n",
            "  product.product_photos_qty  \n",
            "0                          4  \n",
            "1                          2  \n",
            "2                          3  \n",
            "3                          0  \n",
            "4                          0  \n",
            "\n",
            "[5 rows x 35 columns]\n"
          ]
        }
      ]
    },
    {
      "cell_type": "code",
      "source": [],
      "metadata": {
        "id": "bYhXmPoQitPT"
      },
      "execution_count": null,
      "outputs": []
    }
  ]
}