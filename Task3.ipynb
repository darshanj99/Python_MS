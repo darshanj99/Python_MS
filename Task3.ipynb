{
  "nbformat": 4,
  "nbformat_minor": 0,
  "metadata": {
    "colab": {
      "provenance": [],
      "authorship_tag": "ABX9TyO3xUh8hCoBAMAqDvpPiv/Y",
      "include_colab_link": true
    },
    "kernelspec": {
      "name": "python3",
      "display_name": "Python 3"
    },
    "language_info": {
      "name": "python"
    }
  },
  "cells": [
    {
      "cell_type": "markdown",
      "metadata": {
        "id": "view-in-github",
        "colab_type": "text"
      },
      "source": [
        "<a href=\"https://colab.research.google.com/github/darshanj99/Python_MS/blob/main/Task3.ipynb\" target=\"_parent\"><img src=\"https://colab.research.google.com/assets/colab-badge.svg\" alt=\"Open In Colab\"/></a>"
      ]
    },
    {
      "cell_type": "code",
      "execution_count": 1,
      "metadata": {
        "colab": {
          "base_uri": "https://localhost:8080/"
        },
        "id": "YQz0dqrk64fz",
        "outputId": "309e4094-6c93-4493-8e78-75598c9675a2"
      },
      "outputs": [
        {
          "output_type": "stream",
          "name": "stdout",
          "text": [
            "0\n",
            "1\n"
          ]
        }
      ],
      "source": [
        "import pandas as pd\n",
        "\n",
        "df = pd.read_csv(\"Task2.csv\")\n",
        "# print(df)\n",
        "\n",
        "class Orders:\n",
        "    order_no = 0\n",
        "\n",
        "    def __init__(self, order_id):\n",
        "        self.order_id = order_id\n",
        "        Orders.order_no += 1\n",
        "\n",
        "    @classmethod\n",
        "    def get_order_no(cls):\n",
        "        return Orders.order_no\n",
        "    \n",
        "    def display(self):\n",
        "        return 'order_id = ' + str(self.order_id) \n",
        "\n",
        "print(Orders.get_order_no())    \n",
        "orders_1 = Orders('CA-2017-100111')\n",
        "print(Orders.get_order_no())    \n",
        "\n",
        "    \n"
      ]
    },
    {
      "cell_type": "code",
      "source": [],
      "metadata": {
        "id": "2HjBvXmL8COb"
      },
      "execution_count": null,
      "outputs": []
    }
  ]
}