{
  "nbformat": 4,
  "nbformat_minor": 0,
  "metadata": {
    "colab": {
      "provenance": [],
      "authorship_tag": "ABX9TyOQ3VI0GTBc4NFYMByc95+C",
      "include_colab_link": true
    },
    "kernelspec": {
      "name": "python3",
      "display_name": "Python 3"
    },
    "language_info": {
      "name": "python"
    }
  },
  "cells": [
    {
      "cell_type": "markdown",
      "metadata": {
        "id": "view-in-github",
        "colab_type": "text"
      },
      "source": [
        "<a href=\"https://colab.research.google.com/github/darshanj99/Python_MS/blob/main/Task3_python.ipynb\" target=\"_parent\"><img src=\"https://colab.research.google.com/assets/colab-badge.svg\" alt=\"Open In Colab\"/></a>"
      ]
    },
    {
      "cell_type": "code",
      "source": [
        "import pandas as pd"
      ],
      "metadata": {
        "id": "P9uGc9kqbXtn"
      },
      "execution_count": 2,
      "outputs": []
    },
    {
      "cell_type": "code",
      "source": [
        "df = pd.read_csv('/content/Task2.csv')"
      ],
      "metadata": {
        "id": "qMtjep2xaFRR"
      },
      "execution_count": 3,
      "outputs": []
    },
    {
      "cell_type": "code",
      "source": [
        "df['num_sizes'] = df['product.sizes'].astype(str).str.split(',').str.len()\n",
        "max_sizes_product = df.loc[df['num_sizes'].idxmax(), 'product.product_name']\n",
        "print(max_sizes_product)\n"
      ],
      "metadata": {
        "colab": {
          "base_uri": "https://localhost:8080/"
        },
        "id": "E-pbrk4yy-UH",
        "outputId": "03ee6104-587b-47f3-e686-a9237e1b743c"
      },
      "execution_count": 4,
      "outputs": [
        {
          "output_type": "stream",
          "name": "stdout",
          "text": [
            "Redi-Strip #10 Envelopes, 4 1/8 x 9 1/2\n"
          ]
        }
      ]
    },
    {
      "cell_type": "code",
      "source": [
        "mitel_product = df.loc[df['product.product_name'] == 'Mitel 5320 IP Phone VoIP phone']\n",
        "num_sizes = mitel_product['product.sizes'].str.count(',')\n",
        "print(num_sizes.iloc[0])"
      ],
      "metadata": {
        "colab": {
          "base_uri": "https://localhost:8080/"
        },
        "id": "EjWkmVs8vmzB",
        "outputId": "b7d7bee2-7696-481a-b644-b9be3143ce18"
      },
      "execution_count": 11,
      "outputs": [
        {
          "output_type": "stream",
          "name": "stdout",
          "text": [
            "0\n"
          ]
        }
      ]
    },
    {
      "cell_type": "code",
      "source": [],
      "metadata": {
        "id": "4FN_kS_HbgL-"
      },
      "execution_count": null,
      "outputs": []
    }
  ]
}