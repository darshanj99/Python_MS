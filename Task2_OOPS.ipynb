{
  "nbformat": 4,
  "nbformat_minor": 0,
  "metadata": {
    "colab": {
      "provenance": [],
      "authorship_tag": "ABX9TyNAdeUmaVbVSBnaQTfJMpzg",
      "include_colab_link": true
    },
    "kernelspec": {
      "name": "python3",
      "display_name": "Python 3"
    },
    "language_info": {
      "name": "python"
    }
  },
  "cells": [
    {
      "cell_type": "markdown",
      "metadata": {
        "id": "view-in-github",
        "colab_type": "text"
      },
      "source": [
        "<a href=\"https://colab.research.google.com/github/darshanj99/Python_MS/blob/main/Task2_OOPS.ipynb\" target=\"_parent\"><img src=\"https://colab.research.google.com/assets/colab-badge.svg\" alt=\"Open In Colab\"/></a>"
      ]
    },
    {
      "cell_type": "code",
      "execution_count": 2,
      "metadata": {
        "colab": {
          "base_uri": "https://localhost:8080/"
        },
        "id": "FTmQp2z34ldf",
        "outputId": "a533d417-88b6-4e79-a045-284879b32918"
      },
      "outputs": [
        {
          "output_type": "stream",
          "name": "stdout",
          "text": [
            "65.872\n"
          ]
        }
      ],
      "source": [
        "import pandas as pd\n",
        "\n",
        "df = pd.read_csv(\"Task2.csv\")\n",
        "# print(df)\n",
        "\n",
        "class Orders:\n",
        "    def __init__(self, order_id, df):\n",
        "        self.order_id = order_id\n",
        "        self.df = df\n",
        "\n",
        "    def calculate_total(self):\n",
        "        df_1 = self.df[self.df['order.order_id'] == self.order_id]\n",
        "        df_2 = df_1[['id', 'sales_amt']]\n",
        "        total_amt = 0\n",
        "\n",
        "        for i, j in df_2.iterrows():\n",
        "            total_amt += j['sales_amt']\n",
        "        \n",
        "        return total_amt\n",
        "    \n",
        "\n",
        "# US-2014-106992 = 65.872\n",
        "orders_1 = Orders('US-2014-106992', df)\n",
        "print(orders_1.calculate_total())\n"
      ]
    },
    {
      "cell_type": "code",
      "source": [
        "class Orders:\n",
        "    def __init__(self, order_id, df):\n",
        "        self.order_id = order_id\n",
        "        self.df = df\n",
        "\n",
        "    def calculate_total(self):\n",
        "        df_1 = self.df[self.df['order.order_id'] == self.order_id]\n",
        "        df_2 = df_1[['id', 'sales_amt', 'discount']].copy()\n",
        "        df_2.loc[:, 'final_amt'] = df_2['sales_amt'] - df_2['discount']\n",
        "        return df_2\n",
        "\n",
        "class Discount(Orders):\n",
        "    def __init__(self, order_id, df):\n",
        "        super().__init__(order_id, df)\n",
        "\n",
        "    def calculate_final_amt(self):\n",
        "        df = Orders.calculate_total(self)\n",
        "        total_amt = 0\n",
        "\n",
        "        for i, j in df.iterrows():\n",
        "            total_amt += j['final_amt']\n",
        "\n",
        "        return total_amt\n",
        "\n",
        "# CA-2017-100111 = 339.798\n",
        "discount_1 = Discount('CA-2017-100111', df)\n",
        "print(discount_1.calculate_final_amt())\n"
      ],
      "metadata": {
        "colab": {
          "base_uri": "https://localhost:8080/"
        },
        "id": "MUVeygTM4tnc",
        "outputId": "e1c7f20a-8b0f-4655-aded-4ce6e81658f5"
      },
      "execution_count": 4,
      "outputs": [
        {
          "output_type": "stream",
          "name": "stdout",
          "text": [
            "339.798\n"
          ]
        }
      ]
    },
    {
      "cell_type": "code",
      "source": [],
      "metadata": {
        "id": "FC_J8WOF5EWC"
      },
      "execution_count": null,
      "outputs": []
    }
  ]
}