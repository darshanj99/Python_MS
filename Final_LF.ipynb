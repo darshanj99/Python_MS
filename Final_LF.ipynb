{
  "nbformat": 4,
  "nbformat_minor": 0,
  "metadata": {
    "colab": {
      "provenance": [],
      "authorship_tag": "ABX9TyOPrvi+MdSrj+fbIMtm2Jly",
      "include_colab_link": true
    },
    "kernelspec": {
      "name": "python3",
      "display_name": "Python 3"
    },
    "language_info": {
      "name": "python"
    }
  },
  "cells": [
    {
      "cell_type": "markdown",
      "metadata": {
        "id": "view-in-github",
        "colab_type": "text"
      },
      "source": [
        "<a href=\"https://colab.research.google.com/github/darshanj99/Python_MS/blob/main/Final_LF.ipynb\" target=\"_parent\"><img src=\"https://colab.research.google.com/assets/colab-badge.svg\" alt=\"Open In Colab\"/></a>"
      ]
    },
    {
      "cell_type": "code",
      "execution_count": 87,
      "metadata": {
        "colab": {
          "base_uri": "https://localhost:8080/"
        },
        "id": "LNpRc1KVdKaX",
        "outputId": "cf413fdd-2ffa-444d-fe21-8ec25875ceba"
      },
      "outputs": [
        {
          "output_type": "stream",
          "name": "stdout",
          "text": [
            "     id  sales_amt  qty  discount  profit_amt  order.order_id order.ship_mode  \\\n",
            "0  2698   261.9600    2      0.00     41.9136  CA-2014-145317  Standard Class   \n",
            "1  6827   731.9400    3      0.00    219.5820  CA-2016-118689  Standard Class   \n",
            "2  8154    14.6200    2      0.00      6.8714  CA-2017-140151     First Class   \n",
            "3  2624   957.5775    5      0.45   -383.0310  CA-2017-127180     First Class   \n",
            "4  4191    22.3680    2      0.20      2.5164  CA-2017-166709  Standard Class   \n",
            "\n",
            "  order.order_status order.order_purchase_date order.order_approved_at  ...  \\\n",
            "0          delivered       2018-07-11 19:46:00        2018-07-13 15:25  ...   \n",
            "1          delivered       2018-05-15 20:24:00        2018-05-15 20:55  ...   \n",
            "2          delivered       2018-02-28 13:40:00        2018-03-01 13:35  ...   \n",
            "3          delivered       2018-01-07 21:45:00        2018-01-07 21:57  ...   \n",
            "4          delivered       2018-02-22 00:06:00        2018-02-22 00:30  ...   \n",
            "\n",
            "                                product.product_name product.colors  \\\n",
            "0                  Bush Somerset Collection Bookcase           Pink   \n",
            "1  Hon Deluxe Fabric Upholstered Stacking Chairs,...           Pink   \n",
            "2  Self-Adhesive Address Labels for Typewriters b...           Pink   \n",
            "3      Bretford CR4500 Series Slim Rectangular Table           Blue   \n",
            "4                     Eldon Fold 'N Roll Cart System           Blue   \n",
            "\n",
            "  product.category product.sub_category product.date_added  \\\n",
            "0        Furniture            Bookcases         2016-04-01   \n",
            "1        Furniture               Chairs         2016-11-04   \n",
            "2  Office Supplies               Labels         2016-08-01   \n",
            "3        Furniture               Tables         2016-11-15   \n",
            "4  Office Supplies              Storage         2016-08-01   \n",
            "\n",
            "  product.manufacturer     product.sizes   product.upc product.weight  \\\n",
            "0                  NaN                 9  6.400000e+11            NaN   \n",
            "1                  NaN        10,7,6,9,8  6.640000e+11            NaN   \n",
            "2                  NaN              11.5  8.870000e+11            NaN   \n",
            "3                  NaN  10.5,10,8.5,8,13  8.880000e+11            NaN   \n",
            "4                  NaN               NaN  6.040000e+11            NaN   \n",
            "\n",
            "  product.product_photos_qty  \n",
            "0                          4  \n",
            "1                          2  \n",
            "2                          3  \n",
            "3                          0  \n",
            "4                          0  \n",
            "\n",
            "[5 rows x 35 columns]\n"
          ]
        }
      ],
      "source": [
        "import pandas as pd\n",
        "import numpy as np\n",
        "df = pd.read_csv('/content/Task2.csv')\n",
        "print(df.head())"
      ]
    },
    {
      "cell_type": "code",
      "source": [
        "# create a new column for the month by extracting it from the date column\n",
        "df['order.order_purchase_date'] = pd.to_datetime(df['order.order_purchase_date'])\n",
        "df['month'] = df['order.order_purchase_date'].apply(lambda x: x.strftime('%B'))\n",
        "\n",
        "# group the sales data by month and sum the sales amounts\n",
        "monthly_sales = df.groupby('month')['sales_amt'].sum()\n",
        "\n",
        "# print the month with the highest sales\n",
        "print(monthly_sales.idxmax())\n"
      ],
      "metadata": {
        "colab": {
          "base_uri": "https://localhost:8080/"
        },
        "id": "oY89RS6YdRm_",
        "outputId": "a190da51-4925-45ca-a1eb-71477c7c0768"
      },
      "execution_count": 88,
      "outputs": [
        {
          "output_type": "stream",
          "name": "stdout",
          "text": [
            "May\n"
          ]
        }
      ]
    },
    {
      "cell_type": "code",
      "source": [
        "df2 = df.groupby([\"month\"], as_index=False)[[\"profit_amt\"]].sum()\n",
        "df2 = df2.assign(profit_percentage = lambda x: (x[\"profit_amt\"]/df[\"profit_amt\"].sum()).round(3))\n",
        "print(df2.loc[df2[\"profit_percentage\"].idxmax()])"
      ],
      "metadata": {
        "colab": {
          "base_uri": "https://localhost:8080/"
        },
        "id": "WmCnVcIJhnG7",
        "outputId": "d3d94031-1ffe-481e-89f6-f4b84f35372d"
      },
      "execution_count": 89,
      "outputs": [
        {
          "output_type": "stream",
          "name": "stdout",
          "text": [
            "month                    March\n",
            "profit_amt           5129.2084\n",
            "profit_percentage        0.956\n",
            "Name: 7, dtype: object\n"
          ]
        }
      ]
    },
    {
      "cell_type": "code",
      "source": [
        "df2_filtered = df2[df2['profit_percentage'] > 0.2]\n",
        "num_months = df2_filtered.shape[0]\n",
        "print(num_months)\n"
      ],
      "metadata": {
        "colab": {
          "base_uri": "https://localhost:8080/"
        },
        "id": "dF2k9nJXrnp8",
        "outputId": "9dac0132-93a7-41cb-8909-b9ea0ca6caf8"
      },
      "execution_count": 90,
      "outputs": [
        {
          "output_type": "stream",
          "name": "stdout",
          "text": [
            "3\n"
          ]
        }
      ]
    },
    {
      "cell_type": "code",
      "source": [
        "import datetime\n",
        "\n",
        "df['order.order_delivered_customer_date'] = pd.to_datetime(df['order.order_delivered_customer_date'])\n",
        "df['order.order_estimated_delivery_date'] = pd.to_datetime(df['order.order_estimated_delivery_date'])\n",
        "df['delay'] = (df[\"order.order_delivered_customer_date\"]-df[\"order.order_estimated_delivery_date\"])/pd.Timedelta(days=1)\n"
      ],
      "metadata": {
        "id": "OramkgBPshCd"
      },
      "execution_count": 91,
      "outputs": []
    },
    {
      "cell_type": "code",
      "source": [
        "#df['delay_status'] = np.where(df['delay'] > 0, 'Late', 'Early')\n",
        "df[\"delay_status\"] = df[\"delay\"].apply(lambda x: \"Late\" if(x > 0) else \"Early\")\n",
        "df_new = df[['order.order_id', 'delay_status']]\n",
        "delay=(df_new[df_new['delay_status'] == \"Late\"].nunique()).loc['order.order_id']\n",
        "print('no of orders late are: ',delay)"
      ],
      "metadata": {
        "colab": {
          "base_uri": "https://localhost:8080/"
        },
        "id": "HJWwvj4KtQie",
        "outputId": "1c3fa40b-fbfb-4f9a-8031-289ea4071991"
      },
      "execution_count": 121,
      "outputs": [
        {
          "output_type": "stream",
          "name": "stdout",
          "text": [
            "no of orders late are:  34\n"
          ]
        }
      ]
    },
    {
      "cell_type": "code",
      "source": [
        "# group by vendor and count the number of late deliveries\n",
        "vendor_delays = df.groupby('order.vendor.VendorID')['delay'].apply(lambda x: (x > 0).sum())\n",
        "\n",
        "# sort in descending order\n",
        "vendor_delays = vendor_delays.sort_values(ascending=False)\n",
        "\n",
        "# print the vendor with the highest number of late deliveries\n",
        "print(\"Vendor with highest number of late deliveries: \", vendor_delays.index[0])\n"
      ],
      "metadata": {
        "colab": {
          "base_uri": "https://localhost:8080/"
        },
        "id": "iCDxEO3yuZVO",
        "outputId": "be67d63e-d03b-431f-f462-8c79e9fe289c"
      },
      "execution_count": 122,
      "outputs": [
        {
          "output_type": "stream",
          "name": "stdout",
          "text": [
            "Vendor with highest number of late deliveries:  VEN03\n"
          ]
        }
      ]
    },
    {
      "cell_type": "code",
      "source": [],
      "metadata": {
        "id": "90MDVTsVwBNQ"
      },
      "execution_count": 94,
      "outputs": []
    }
  ]
}